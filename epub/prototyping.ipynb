{
 "cells": [
  {
   "cell_type": "markdown",
   "metadata": {},
   "source": [
    "# Unpacking epub files contents into plain text"
   ]
  },
  {
   "cell_type": "code",
   "execution_count": 1,
   "metadata": {},
   "outputs": [],
   "source": [
    "import os, glob, shutil, zipfile, shutil\n",
    "from bs4 import BeautifulSoup"
   ]
  },
  {
   "cell_type": "code",
   "execution_count": 140,
   "metadata": {},
   "outputs": [],
   "source": [
    "filenames = glob.glob('*.epub')"
   ]
  },
  {
   "cell_type": "code",
   "execution_count": 137,
   "metadata": {},
   "outputs": [],
   "source": [
    "tmpdir = 'tmp'\n",
    "if not os.path.isdir(tmpdir):\n",
    "    os.mkdir(tmpdir)"
   ]
  },
  {
   "cell_type": "code",
   "execution_count": 131,
   "metadata": {},
   "outputs": [],
   "source": [
    "def get_files(parse_dir):\n",
    "    ftype = 'html'\n",
    "    tobeparsed = glob.glob(parse_dir + '/*/*.' + ftype[:-1] + '*', recursive=True)\n",
    "\n",
    "    if not tobeparsed:\n",
    "        ftype = 'xml'\n",
    "        tobeparsed = glob.glob(parse_dir + '/*/*.' + ftype, recursive=True)\n",
    "\n",
    "    if not tobeparsed:\n",
    "        print('nothing found in', parse_dir)\n",
    "    else:\n",
    "        print(\"found files in\", ftype, \"format:\")\n",
    "        print(*tobeparsed, sep='\\n', end='\\n---------\\n')\n",
    "    \n",
    "    return tobeparsed"
   ]
  },
  {
   "cell_type": "code",
   "execution_count": 132,
   "metadata": {},
   "outputs": [],
   "source": [
    "def parse_soup(tobeparsed):\n",
    "    \n",
    "    txt_out = []\n",
    "    \n",
    "    for fname in tobeparsed:\n",
    "        with open(fname) as f:\n",
    "            soup = BeautifulSoup(f)\n",
    "            txt_out.append(soup.get_text())\n",
    "            \n",
    "    return txt_out"
   ]
  },
  {
   "cell_type": "code",
   "execution_count": 133,
   "metadata": {},
   "outputs": [],
   "source": [
    "def write_parsed(name_noext, txt_out):\n",
    "    \n",
    "    resultdir = 'results'\n",
    "    file_out = os.path.join(resultdir, name_noext + '.txt')\n",
    "    \n",
    "    if not os.path.isdir(resultdir):\n",
    "        os.mkdir(resultdir)  \n",
    "        \n",
    "    with open(file_out, 'w') as out:\n",
    "        for txt in txt_out:\n",
    "            out.write(txt)"
   ]
  },
  {
   "cell_type": "code",
   "execution_count": 141,
   "metadata": {},
   "outputs": [
    {
     "name": "stdout",
     "output_type": "stream",
     "text": [
      "extracting: sarrasine.epub\n",
      "found files in xml format:\n",
      "tmp/sarrasine/OEBPS/text-3.xml\n",
      "tmp/sarrasine/OEBPS/text-6.xml\n",
      "tmp/sarrasine/OEBPS/text-1.xml\n",
      "tmp/sarrasine/OEBPS/text-2.xml\n",
      "tmp/sarrasine/OEBPS/text-5.xml\n",
      "tmp/sarrasine/OEBPS/text-4.xml\n",
      "---------\n",
      "extracting: Adieu.epub\n",
      "found files in xml format:\n",
      "tmp/Adieu/OEBPS/text-3.xml\n",
      "tmp/Adieu/OEBPS/text-6.xml\n",
      "tmp/Adieu/OEBPS/text-1.xml\n",
      "tmp/Adieu/OEBPS/text-7.xml\n",
      "tmp/Adieu/OEBPS/text-2.xml\n",
      "tmp/Adieu/OEBPS/text-5.xml\n",
      "tmp/Adieu/OEBPS/text-4.xml\n",
      "---------\n"
     ]
    }
   ],
   "source": [
    "for filename in filenames:\n",
    "    \n",
    "    print('extracting:', filename)\n",
    "    \n",
    "    fn_noext = filename[:-5]\n",
    "    extrdir = os.path.join(tmpdir, fn_noext)\n",
    "    \n",
    "    if not os.path.isdir(extrdir):\n",
    "        os.mkdir(extrdir)        \n",
    "        \n",
    "        with zipfile.ZipFile(filename, 'r') as file:\n",
    "            file.extractall(extrdir)\n",
    "            \n",
    "        meta = glob.glob(extrdir + '/META*')\n",
    "        shutil.rmtree(meta[0])\n",
    "        \n",
    "    tobeparsed = get_files(extrdir)\n",
    "    txt_out = parse_soup(tobeparsed)\n",
    "    write_parsed(fn_noext, txt_out)"
   ]
  },
  {
   "cell_type": "code",
   "execution_count": 135,
   "metadata": {},
   "outputs": [],
   "source": [
    "shutil.rmtree(tmpdir)"
   ]
  }
 ],
 "metadata": {
  "kernelspec": {
   "display_name": "Python 3",
   "language": "python",
   "name": "python3"
  },
  "language_info": {
   "codemirror_mode": {
    "name": "ipython",
    "version": 3
   },
   "file_extension": ".py",
   "mimetype": "text/x-python",
   "name": "python",
   "nbconvert_exporter": "python",
   "pygments_lexer": "ipython3",
   "version": "3.6.7"
  }
 },
 "nbformat": 4,
 "nbformat_minor": 2
}
