{
 "cells": [
  {
   "cell_type": "code",
   "execution_count": 1,
   "metadata": {},
   "outputs": [],
   "source": [
    "from bs4 import BeautifulSoup\n",
    "import os, re, urllib3, certifi, json\n",
    "from time import sleep"
   ]
  },
  {
   "cell_type": "code",
   "execution_count": 42,
   "metadata": {},
   "outputs": [],
   "source": [
    "source_file = 'rabelais.json' # must be in the same format as given examples"
   ]
  },
  {
   "cell_type": "code",
   "execution_count": 3,
   "metadata": {},
   "outputs": [],
   "source": [
    "with open(source_file, 'r') as rs:\n",
    "    urls = json.load(rs)"
   ]
  },
  {
   "cell_type": "code",
   "execution_count": 4,
   "metadata": {},
   "outputs": [],
   "source": [
    "http = urllib3.PoolManager(cert_reqs='CERT_REQUIRED', ca_certs=certifi.where())"
   ]
  },
  {
   "cell_type": "code",
   "execution_count": 30,
   "metadata": {},
   "outputs": [],
   "source": [
    "def get_data(url):\n",
    "    r = http.request('GET', url)\n",
    "    # print(r.status)\n",
    "    if r.status == 200: \n",
    "        # clear_output()\n",
    "        print('Joy! Able to scrape', url)\n",
    "        soup = BeautifulSoup(r.data, 'html.parser')\n",
    "        # the following inspired by this: https://stackoverflow.com/a/22800287\n",
    "        # kill all script and style elements\n",
    "        for script in soup([\"script\", \"style\"]):\n",
    "            script.decompose()    # rip it out\n",
    "        # get text\n",
    "        text = soup.get_text()\n",
    "        # break into lines and remove leading and trailing space on each\n",
    "        lines = [line.strip() for line in text.splitlines()]\n",
    "        # join again and remove empty lines\n",
    "        text = '\\n'.join(line for line in lines if line)\n",
    "        return text\n",
    "    else:\n",
    "        print('Oops, issue:', r.status)\n",
    "        print('Url:', url)\n",
    "        print('-'*60)"
   ]
  },
  {
   "cell_type": "code",
   "execution_count": 33,
   "metadata": {},
   "outputs": [],
   "source": [
    "source_name = os.path.splitext(os.path.basename(source_file))[0]\n",
    "if not os.path.isdir(source_name):\n",
    "    os.mkdir(source_name)"
   ]
  },
  {
   "cell_type": "code",
   "execution_count": 34,
   "metadata": {},
   "outputs": [
    {
     "name": "stdout",
     "output_type": "stream",
     "text": [
      "Joy! Able to scrape https://fr.wikisource.org/wiki/Pantagruel/%C3%89dition_Nourry,_1530\n",
      "Joy! Able to scrape https://fr.wikisource.org/wiki/Gargantua/%C3%89dition_Juste,_1535\n",
      "Joy! Able to scrape https://fr.wikisource.org/wiki/Le_Tiers_Livre/Texte_entier\n",
      "Joy! Able to scrape https://fr.wikisource.org/wiki/Le_Quart_Livre/Texte_entier\n"
     ]
    }
   ],
   "source": [
    "for i, url in enumerate(urls[\"urls\"]):\n",
    "    txt = get_data(url)\n",
    "    with open(source_name + '/{}.txt'.format(i+1), 'w') as r:\n",
    "        r.write(txt)\n",
    "    sleep(0.5)"
   ]
  },
  {
   "cell_type": "code",
   "execution_count": 41,
   "metadata": {},
   "outputs": [
    {
     "name": "stdout",
     "output_type": "stream",
     "text": [
      "Generated texts:\n",
      "2.txt\n",
      "3.txt\n",
      "4.txt\n",
      "1.txt\n"
     ]
    }
   ],
   "source": [
    "print('Generated texts:', *os.listdir(source_name), sep='\\n')"
   ]
  }
 ],
 "metadata": {
  "kernelspec": {
   "display_name": "Python 3",
   "language": "python",
   "name": "python3"
  },
  "language_info": {
   "codemirror_mode": {
    "name": "ipython",
    "version": 3
   },
   "file_extension": ".py",
   "mimetype": "text/x-python",
   "name": "python",
   "nbconvert_exporter": "python",
   "pygments_lexer": "ipython3",
   "version": "3.6.7"
  }
 },
 "nbformat": 4,
 "nbformat_minor": 2
}
