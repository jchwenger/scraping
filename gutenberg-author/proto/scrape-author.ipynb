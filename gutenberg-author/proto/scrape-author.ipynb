{
 "cells": [
  {
   "cell_type": "code",
   "execution_count": 1,
   "metadata": {},
   "outputs": [],
   "source": [
    "import os\n",
    "import re\n",
    "import re\n",
    "import json\n",
    "import random\n",
    "import pprint\n",
    "import urllib3\n",
    "import certifi\n",
    "from time import sleep\n",
    "from bs4 import BeautifulSoup"
   ]
  },
  {
   "cell_type": "code",
   "execution_count": 2,
   "metadata": {},
   "outputs": [],
   "source": [
    "pp = pprint.PrettyPrinter(indent=2)"
   ]
  },
  {
   "cell_type": "code",
   "execution_count": 3,
   "metadata": {},
   "outputs": [],
   "source": [
    "G = 'https://www.gutenberg.org'"
   ]
  },
  {
   "cell_type": "code",
   "execution_count": 80,
   "metadata": {},
   "outputs": [],
   "source": [
    "author = 'Dickens' # 'Dickens, Charles'\n",
    "authre = re.compile('^'+author, re.IGNORECASE)\n",
    "lang = re.compile('English')\n",
    "letter = author[0].lower()"
   ]
  },
  {
   "cell_type": "code",
   "execution_count": 81,
   "metadata": {},
   "outputs": [],
   "source": [
    "url = 'http://www.gutenberg.org/browse/authors/' + letter"
   ]
  },
  {
   "cell_type": "code",
   "execution_count": 82,
   "metadata": {},
   "outputs": [],
   "source": [
    "http = urllib3.PoolManager(cert_reqs='CERT_REQUIRED', ca_certs=certifi.where())"
   ]
  },
  {
   "cell_type": "code",
   "execution_count": 83,
   "metadata": {},
   "outputs": [],
   "source": [
    "r = http.request('GET', url)"
   ]
  },
  {
   "cell_type": "code",
   "execution_count": 84,
   "metadata": {},
   "outputs": [],
   "source": [
    "soup = BeautifulSoup(r.data, 'html.parser')"
   ]
  },
  {
   "cell_type": "code",
   "execution_count": 85,
   "metadata": {},
   "outputs": [
    {
     "name": "stdout",
     "output_type": "stream",
     "text": [
      "['Dickens, Charles, 1812-1870', \"Dickens's Children: Ten Drawings\", \"Dickens' Stories About Children Every Child Can Read\", 'Dickens, Mamie, 1838-1896', 'Dickens, Mary Angela, 1862-1948']\n"
     ]
    }
   ],
   "source": [
    "h2 = soup.find_all(string=authre)\n",
    "print(h2)"
   ]
  },
  {
   "cell_type": "code",
   "execution_count": 10,
   "metadata": {
    "collapsed": true,
    "jupyter": {
     "outputs_hidden": true
    }
   },
   "outputs": [
    {
     "name": "stdout",
     "output_type": "stream",
     "text": [
      "<ul>\n",
      "<li class=\"pgdbalias\">Boz</li>\n",
      "<li class=\"pgdbxlink\"><a href=\"https://en.wikipedia.org/wiki/Charles_Dickens\">en.wikipedia</a></li>\n",
      "<li class=\"pgdbetext\"><a href=\"/ebooks/18059\">L'abîme</a> (French) (as Author)</li>\n",
      "<li class=\"pgdbaudio\"><a href=\"/ebooks/9691\">All the Year Round</a> (English) (as Author)</li>\n",
      "<li class=\"pgdbetext\"><a href=\"/ebooks/675\">American Notes</a> (English) (as Author)</li>\n",
      "<li class=\"pgdbaudio\"><a href=\"/ebooks/9693\">American Notes</a> (English) (as Author)</li>\n",
      "<li class=\"pgdbetext\"><a href=\"/ebooks/13771\">Aventures de Monsieur Pickwick, Vol. I</a> (French) (as Author)</li>\n",
      "<li class=\"pgdbetext\"><a href=\"/ebooks/14789\">Aventures de Monsieur Pickwick, Vol. II</a> (French) (as Author)</li>\n",
      "<li class=\"pgdbetext\"><a href=\"/ebooks/37093\">De avonturen van Oliver Twist</a> (Dutch) (as Author)</li>\n",
      "<li class=\"pgdbetext\"><a href=\"/ebooks/25985\">Bardell v. Pickwick</a> (English) (as Author)</li>\n",
      "<li class=\"pgdbetext\"><a href=\"/ebooks/17879\">Barnabé Rudge, Tome I</a> (French) (as Author)</li>\n",
      "<li class=\"pgdbetext\"><a href=\"/ebooks/17880\">Barnabé Rudge, Tome II</a> (French) (as Author)</li>\n",
      "<li class=\"pgdbaudio\"><a href=\"/ebooks/9732\">Barnaby Rudge</a> (English) (as Author)</li>\n",
      "<li class=\"pgdbetext\"><a href=\"/ebooks/917\">Barnaby Rudge: A Tale of the Riots of 'Eighty</a> (English) (as Author)</li>\n",
      "<li class=\"pgdbetext\"><a href=\"/ebooks/24501\">La Batalo de l' Vivo</a> (Esperanto) (as Author)</li>\n",
      "<li class=\"pgdbetext\"><a href=\"/ebooks/676\">The Battle of Life</a> (English) (as Author)</li>\n",
      "<li class=\"pgdbaudio\"><a href=\"/ebooks/9694\">The Battle of Life</a> (English) (as Author)</li>\n",
      "<li class=\"pgdbetext\"><a href=\"/ebooks/40723\">The Battle of Life: A Love Story</a> (English) (as Author)</li>\n",
      "<li class=\"pgdbetext\"><a href=\"/ebooks/44578\">Bentley's Miscellany, Volume I</a> (English) (as Editor)</li>\n",
      "<li class=\"pgdbetext\"><a href=\"/ebooks/46804\">Bentley's Miscellany, Volume II</a> (English) (as Editor)</li>\n",
      "<li class=\"pgdbetext\"><a href=\"/ebooks/1023\">Bleak House</a> (English) (as Author)</li>\n",
      "<li class=\"pgdbaudio\"><a href=\"/ebooks/9695\">Bleak House</a> (English) (as Author)</li>\n",
      "<li class=\"pgdbetext\"><a href=\"/ebooks/28198\">A Budget of Christmas Tales by Charles Dickens and Others</a> (English) (as Contributor)</li>\n",
      "<li class=\"pgdbetext\"><a href=\"/ebooks/16021\">Cantique de Noël</a> (French) (as Author)</li>\n",
      "<li class=\"pgdbetext\"><a href=\"/ebooks/23765\">Captain Boldheart &amp; the Latin-Grammar Master<br/>A Holiday Romance from the Pen of Lieut-Col. Robin Redforth, aged 9</a> (English) (as Author)</li>\n",
      "<li class=\"pgdbetext\"><a href=\"/ebooks/37121\">Charles Dickens' Children Stories</a> (English) (as Author)</li>\n",
      "<li class=\"pgdbetext\"><a href=\"/ebooks/42232\">A Child's Dream of a Star</a> (English) (as Author)</li>\n",
      "<li class=\"pgdbetext\"><a href=\"/ebooks/699\">A Child's History of England</a> (English) (as Author)</li>\n",
      "<li class=\"pgdbaudio\"><a href=\"/ebooks/9690\">A Child's History of England</a> (English) (as Author)</li>\n",
      "<br/>A Goblin Story of Some Bells That Rang an Old Year out and a New Year In</a> (English) (as Author)</li>\n",
      "<br/>A Goblin Story of Some Bells That Rang an Old Year out and a New Year In</a> (English) (as Author)</li>\n",
      "<li class=\"pgdbaudio\"><a href=\"/ebooks/19505\">A Christmas Carol</a> (English) (as Author)</li>\n",
      "<li class=\"pgdbetext\"><a href=\"/ebooks/19337\">A Christmas Carol</a> (English) (as Author)</li>\n",
      "<li class=\"pgdbaudio\"><a href=\"/ebooks/20673\">A Christmas Carol</a> (English) (as Author)</li>\n",
      "<li class=\"pgdbetext\"><a href=\"/ebooks/24022\">A Christmas Carol</a> (English) (as Author)</li>\n",
      "<li class=\"pgdbaudio\"><a href=\"/ebooks/9696\">A Christmas Carol</a> (English) (as Author)</li>\n",
      "<li class=\"pgdbetext\"><a href=\"/ebooks/46\">A Christmas Carol in Prose; Being a Ghost Story of Christmas</a> (English) (as Author)</li>\n",
      "<br/>(Adapted from Charles Dickens' Celebrated Work.)</a> (English) (as Author)</li>ning!\n",
      "<li class=\"pgdbetext\"><a href=\"/ebooks/30368\">A Christmas Carol<br/>The original manuscript</a> (English) (as Author)</li>\n",
      "<li class=\"pgdbetext\"><a href=\"/ebooks/41894\">Christmas-Tide</a> (English) (as Author)</li>\n",
      "<li class=\"pgdbetext\"><a href=\"/ebooks/16022\">Les conteurs à la ronde</a> (French) (as Author)</li>\n",
      "<li class=\"pgdbetext\"><a href=\"/ebooks/1464\">Contributions to All The Year Round</a> (English) (as Editor)</li>\n",
      "<li class=\"pgdbaudio\"><a href=\"/ebooks/9739\">Cricket on the Hearth</a> (English) (as Author)</li>\n",
      "<li class=\"pgdbetext\"><a href=\"/ebooks/20795\">The Cricket on the Hearth</a> (English) (as Author)</li>\n",
      "<li class=\"pgdbetext\"><a href=\"/ebooks/37581\">The Cricket on the Hearth: A Fairy Tale of Home</a> (English) (as Author)</li>\n",
      "<li class=\"pgdbetext\"><a href=\"/ebooks/678\">The Cricket on the Hearth: A Fairy Tale of Home</a> (English) (as Author)</li>\n",
      "<li class=\"pgdbetext\"><a href=\"/ebooks/49683\">Cruikshank's Water Colours</a> (English) (as Author)</li>\n",
      "<li class=\"pgdbaudio\"><a href=\"/ebooks/9744\">David Copperfield</a> (English) (as Author)</li>\n",
      "<li class=\"pgdbetext\"><a href=\"/ebooks/766\">David Copperfield</a> (English) (as Author)</li>\n",
      "<li class=\"pgdbetext\"><a href=\"/ebooks/18186\">David Copperfield I<br/>David Copperfield nuoremman elämäkertomus ja kokemukset</a> (Finnish) (as Author)</li>\n",
      "<li class=\"pgdbetext\"><a href=\"/ebooks/18201\">David Copperfield II<br/>David Copperfield nuoremman elämäkerta ja kokemukset</a> (Finnish) (as Author)</li>\n",
      "<li class=\"pgdbetext\"><a href=\"/ebooks/17868\">David Copperfield - Tome I</a> (French) (as Author)</li>\n",
      "<li class=\"pgdbetext\"><a href=\"/ebooks/17869\">David Copperfield - Tome II</a> (French) (as Author)</li>\n",
      "<li class=\"pgdbetext\"><a href=\"/ebooks/32372\">Dickens's Children: Ten Drawings</a> (English) (as Contributor)</li>\n",
      "<li class=\"pgdbetext\"><a href=\"/ebooks/32241\">Dickens' Stories About Children Every Child Can Read</a> (English) (as Author)</li>\n",
      "<li class=\"pgdbaudio\"><a href=\"/ebooks/9704\">Doctor Marigold</a> (English) (as Author)</li>\n",
      "<li class=\"pgdbetext\"><a href=\"/ebooks/1415\">Doctor Marigold</a> (English) (as Author)</li>\n",
      "<li class=\"pgdbaudio\"><a href=\"/ebooks/9703\">Dombey and Son</a> (English) (as Author)</li>\n",
      "<li class=\"pgdbetext\"><a href=\"/ebooks/821\">Dombey and Son</a> (English) (as Author)</li>\n",
      "<li class=\"pgdbetext\"><a href=\"/ebooks/50164\">Elämän taistelu</a> (Finnish) (as Author)</li>\n",
      "<li class=\"pgdbetext\"><a href=\"/ebooks/59813\">The Footpath Way: An Anthology for Walkers</a> (English) (as Contributor)</li>\n",
      "<li class=\"pgdbetext\"><a href=\"/ebooks/810\">George Silverman's Explanation</a> (English) (as Author)</li>\n",
      "<li class=\"pgdbaudio\"><a href=\"/ebooks/9708\">George Silverman's Explanation</a> (English) (as Author)</li>\n",
      "<li class=\"pgdbaudio\"><a href=\"/ebooks/9707\">Going into Society</a> (English) (as Author)</li>\n",
      "<li class=\"pgdbetext\"><a href=\"/ebooks/1422\">Going into Society</a> (English) (as Author)</li>\n",
      "<li class=\"pgdbetext\"><a href=\"/ebooks/17565\">Les grandes espérances</a> (French) (as Author)</li>\n",
      "<li class=\"pgdbetext\"><a href=\"/ebooks/10135\">The Great English Short-Story Writers, Volume 1</a> (English) (as Contributor)</li>\n",
      "<li class=\"pgdbaudio\"><a href=\"/ebooks/8608\">Great Expectations</a> (English) (as Author)</li>\n",
      "<li class=\"pgdbetext\"><a href=\"/ebooks/1400\">Great Expectations</a> (English) (as Author)</li>\n",
      "<li class=\"pgdbetext\"><a href=\"/ebooks/16020\">Le grillon du foyer</a> (French) (as Author)</li>\n",
      "<li class=\"pgdbaudio\"><a href=\"/ebooks/9709\">Hard Times</a> (English) (as Author)</li>\n",
      "<li class=\"pgdbetext\"><a href=\"/ebooks/786\">Hard Times</a> (English) (as Author)</li>\n",
      "<li class=\"pgdbetext\"><a href=\"/ebooks/644\">The Haunted Man and the Ghost's Bargain</a> (English) (as Author)</li>\n",
      "<li class=\"pgdbaudio\"><a href=\"/ebooks/9713\">The Haunted Man and the Ghost's Bargain</a> (English) (as Author)</li>\n",
      "<li class=\"pgdbaudio\"><a href=\"/ebooks/9710\">Holiday Romance</a> (English) (as Author)</li>\n",
      "<li class=\"pgdbetext\"><a href=\"/ebooks/809\">Holiday Romance</a> (English) (as Author)</li>\n",
      "<li class=\"pgdbetext\"><a href=\"/ebooks/1394\">The Holly-Tree</a> (English) (as Author)</li>\n",
      "<li class=\"pgdbaudio\"><a href=\"/ebooks/9711\">The Holly-Tree</a> (English) (as Author)</li>\n",
      "<li class=\"pgdbaudio\"><a href=\"/ebooks/9714\">A House to Let</a> (English) (as Author)</li>\n",
      "<li class=\"pgdbetext\"><a href=\"/ebooks/2324\">A House to Let</a> (English) (as Author)</li>\n",
      "<li class=\"pgdbaudio\"><a href=\"/ebooks/9712\">Hunted Down</a> (English) (as Author)</li>\n",
      "<li class=\"pgdbetext\"><a href=\"/ebooks/807\">Hunted Down: The Detective Stories of Charles Dickens</a> (English) (as Author)</li>\n",
      "<li class=\"pgdbetext\"><a href=\"/ebooks/19934\">Ilman menestyksettä<br/>Joulukertomus</a> (Finnish) (as Author)</li>\n",
      "<li class=\"pgdbetext\"><a href=\"/ebooks/58157\">Index of the Project Gutenberg Works of Charles Dickens</a> (English) (as Author)</li>\n",
      "<li class=\"pgdbetext\"><a href=\"/ebooks/24026\">Joulun-aatto</a> (Finnish) (as Author)</li>\n",
      "<li class=\"pgdbetext\"><a href=\"/ebooks/48023\">Kaksi kaupunkia</a> (Finnish) (as Author)</li>\n",
      "<li class=\"pgdbetext\"><a href=\"/ebooks/28560\">Een Kerstlied in Proza</a> (Dutch) (as Author)</li>\n",
      "<li class=\"pgdbetext\"><a href=\"/ebooks/44899\">Kotisirkka</a> (Finnish) (as Author)</li>\n",
      "<li class=\"pgdbetext\"><a href=\"/ebooks/927\">The Lamplighter</a> (English) (as Author)</li>\n",
      "<li class=\"pgdbaudio\"><a href=\"/ebooks/9716\">The Lamplighter</a> (English) (as Author)</li>\n",
      "<li class=\"pgdbaudio\"><a href=\"/ebooks/9717\">The Lazy Tour of Two Idle Apprentices</a> (English) (as Author)</li>\n",
      "<li class=\"pgdbetext\"><a href=\"/ebooks/888\">The Lazy Tour of Two Idle Apprentices</a> (English) (as Author)</li>\n",
      "<li class=\"pgdbetext\"><a href=\"/ebooks/2303\">Legends and Lyrics. Part 1</a> (English) (as Author of introduction, etc.)</li>\n",
      "<li class=\"pgdbetext\"><a href=\"/ebooks/25852\">The Letters of Charles Dickens. Vol. 1, 1833-1856</a> (English) (as Author)</li>\n",
      "<li class=\"pgdbetext\"><a href=\"/ebooks/25853\">The Letters of Charles Dickens. Vol. 2, 1857-1870</a> (English) (as Author)</li>\n",
      "<li class=\"pgdbetext\"><a href=\"/ebooks/25854\">The Letters of Charles Dickens. Vol. 3, 1836-1870</a> (English) (as Author)</li>\n",
      "<li class=\"pgdbetext\"><a href=\"/ebooks/47933\">Het leven en de lotgevallen van David Copperfield</a> (Dutch) (as Author)</li>\n",
      "<li class=\"pgdbetext\"><a href=\"/ebooks/963\">Little Dorrit</a> (English) (as Author)</li>\n",
      "<li class=\"pgdbaudio\"><a href=\"/ebooks/9715\">Little Dorrit</a> (English) (as Author)</li>\n",
      "<li class=\"pgdbetext\"><a href=\"/ebooks/1831\">The Lock and Key Library: Classic Mystery and Detective Stories: Old Time English</a> (English) (as Contributor)</li>\n",
      "<li class=\"pgdbetext\"><a href=\"/ebooks/15618\">The Loving Ballad of Lord Bateman</a> (English) (as Author)</li>\n",
      "<li class=\"pgdbetext\"><a href=\"/ebooks/17675\">Le magasin d'antiquités, Tome I</a> (French) (as Author)</li>\n",
      "<li class=\"pgdbetext\"><a href=\"/ebooks/17676\">Le magasin d'antiquités, Tome II</a> (French) (as Author)</li>\n",
      "<li class=\"pgdbetext\"><a href=\"/ebooks/23344\">The Magic Fishbone<br/>A Holiday Romance from the Pen of Miss Alice Rainbird, Aged 7</a> (English) (as Author)</li>\n",
      "<li class=\"pgdbaudio\"><a href=\"/ebooks/9699\">Martin Chuzzlewit</a> (English) (as Author)</li>\n",
      "<li class=\"pgdbetext\"><a href=\"/ebooks/968\">Martin Chuzzlewit</a> (English) (as Author)</li>\n",
      "<li class=\"pgdbetext\"><a href=\"/ebooks/588\">Master Humphrey's Clock</a> (English) (as Author)</li>\n",
      "<li class=\"pgdbaudio\"><a href=\"/ebooks/9721\">Master Humphrey's Clock</a> (English) (as Author)</li>\n",
      "<li class=\"pgdbetext\"><a href=\"/ebooks/46709\">Memoirs of Joseph Grimaldi</a> (English) (as Editor)</li>\n",
      "<li class=\"pgdbaudio\"><a href=\"/ebooks/9692\">A Message from the Sea</a> (English) (as Author)</li>\n",
      "<li class=\"pgdbetext\"><a href=\"/ebooks/1407\">A Message from the Sea</a> (English) (as Author)</li>\n",
      "<li class=\"pgdbetext\"><a href=\"/ebooks/1435\">Miscellaneous Papers</a> (English) (as Author)</li>\n",
      "<li class=\"pgdbaudio\"><a href=\"/ebooks/9724\">Miscellaneous Papers</a> (English) (as Author)</li>\n",
      "<br/>Being an Account of the Pickwickians' Christmas at the Manor Farm, of the Adventures There; the Tale of the Goblin Who Stole a Sexton, and of the Famous Sports on the Ice</a> (English) (as Author)</li>\n",
      "<li class=\"pgdbetext\"><a href=\"/ebooks/1421\">Mrs. Lirriper's Legacy</a> (English) (as Author)</li>\n",
      "<li class=\"pgdbaudio\"><a href=\"/ebooks/9723\">Mrs. Lirriper's Legacy</a> (English) (as Author)</li>\n",
      "<li class=\"pgdbaudio\"><a href=\"/ebooks/9722\">Mrs. Lirriper's Lodgings</a> (English) (as Author)</li>\n",
      "<li class=\"pgdbetext\"><a href=\"/ebooks/1416\">Mrs. Lirriper's Lodgings</a> (English) (as Author)</li>\n",
      "<li class=\"pgdbetext\"><a href=\"/ebooks/912\">Mudfog and Other Sketches</a> (English) (as Author)</li>\n",
      "<li class=\"pgdbaudio\"><a href=\"/ebooks/9718\">Mudfog and Other Sketches</a> (English) (as Author)</li>\n",
      "<li class=\"pgdbaudio\"><a href=\"/ebooks/9720\">Mugby Junction</a> (English) (as Author)</li>\n",
      "<li class=\"pgdbetext\"><a href=\"/ebooks/1419\">Mugby Junction</a> (English) (as Author)</li>\n",
      "<li class=\"pgdbetext\"><a href=\"/ebooks/27924\">Mugby Junction</a> (English) (as Author)</li>\n",
      "<li class=\"pgdbetext\"><a href=\"/ebooks/15499\">Mugbyn risteys</a> (Finnish) (as Author)</li>\n",
      "<li class=\"pgdbetext\"><a href=\"/ebooks/564\">The Mystery of Edwin Drood</a> (English) (as Author)</li>\n",
      "<li class=\"pgdbaudio\"><a href=\"/ebooks/9705\">The Mystery of Edwin Drood</a> (English) (as Author)</li>\n",
      "<li class=\"pgdbetext\"><a href=\"/ebooks/52125\">Nell and Her Grandfather, Told from Charles Dickens's \"The Old Curiosity Shop\"</a> (English) (as Author)</li>\n",
      "<li class=\"pgdbaudio\"><a href=\"/ebooks/9725\">Nicholas Nickleby</a> (English) (as Author)</li>\n",
      "<li class=\"pgdbetext\"><a href=\"/ebooks/967\">Nicholas Nickleby</a> (English) (as Author)</li>\n",
      "<li class=\"pgdbetext\"><a href=\"/ebooks/1423\">No Thoroughfare</a> (English) (as Author)</li>\n",
      "<li class=\"pgdbaudio\"><a href=\"/ebooks/9726\">No Thoroughfare</a> (English) (as Author)</li>\n",
      "<li class=\"pgdbaudio\"><a href=\"/ebooks/22449\">No Thoroughfare</a> (English) (as Author)</li>\n",
      "<li class=\"pgdbaudio\"><a href=\"/ebooks/9702\">The Old Curiosity Shop</a> (English) (as Author)</li>\n",
      "<li class=\"pgdbetext\"><a href=\"/ebooks/700\">The Old Curiosity Shop</a> (English) (as Author)</li>\n",
      "<br/>Dramatized from Charles Dickens' Celebrated Christmas Story.</a> (English) (as Author)</li>\n",
      "<li class=\"pgdbetext\"><a href=\"/ebooks/730\">Oliver Twist</a> (English) (as Author)</li>\n",
      "<li class=\"pgdbaudio\"><a href=\"/ebooks/9727\">Oliver Twist</a> (English) (as Author)</li>\n",
      "<li class=\"pgdbetext\"><a href=\"/ebooks/16023\">Oliver Twist</a> (French) (as Author)</li>\n",
      "<li class=\"pgdbetext\"><a href=\"/ebooks/56586\">Oliver Twist</a> (German) (as Author)</li>\n",
      "<li class=\"pgdbetext\"><a href=\"/ebooks/46675\">Oliver Twist; or, The Parish Boy's Progress. Illustrated</a> (English) (as Author)</li>\n",
      "<li class=\"pgdbetext\"><a href=\"/ebooks/47529\">Oliver Twist, Vol. 1 (of 3)</a> (English) (as Author)</li>\n",
      "<li class=\"pgdbetext\"><a href=\"/ebooks/47530\">Oliver Twist, Vol. 2 (of 3)</a> (English) (as Author)</li>\n",
      "<li class=\"pgdbetext\"><a href=\"/ebooks/47531\">Oliver Twist, Vol. 3 (of 3)</a> (English) (as Author)</li>\n",
      "<li class=\"pgdbaudio\"><a href=\"/ebooks/9719\">Our Mutual Friend</a> (English) (as Author)</li>\n",
      "<li class=\"pgdbetext\"><a href=\"/ebooks/883\">Our Mutual Friend</a> (English) (as Author)</li>\n",
      "<li class=\"pgdbetext\"><a href=\"/ebooks/49927\">Pearl-Fishing; Choice Stories from Dickens' Household Words; First Series</a> (English) (as Author)</li>\n",
      "<li class=\"pgdbetext\"><a href=\"/ebooks/50334\">Pearl-Fishing; Choice Stories from Dickens' Household Words; Second Series</a> (English) (as Author)</li>\n",
      "<li class=\"pgdbaudio\"><a href=\"/ebooks/9729\">Perils of Certain English Prisoners</a> (English) (as Author)</li>\n",
      "<li class=\"pgdbetext\"><a href=\"/ebooks/1406\">The Perils of Certain English Prisoners</a> (English) (as Author)</li>\n",
      "<li class=\"pgdbetext\"><a href=\"/ebooks/43111\">The Personal History of David Copperfield</a> (English) (as Author)</li>\n",
      "<li class=\"pgdbetext\"><a href=\"/ebooks/580\">The Pickwick Papers</a> (English) (as Author)</li>\n",
      "<li class=\"pgdbaudio\"><a href=\"/ebooks/9730\">The Pickwick Papers</a> (English) (as Author)</li>\n",
      "<li class=\"pgdbetext\"><a href=\"/ebooks/650\">Pictures from Italy</a> (English) (as Author)</li>\n",
      "<li class=\"pgdbaudio\"><a href=\"/ebooks/9728\">Pictures from Italy</a> (English) (as Author)</li>\n",
      "<li class=\"pgdbetext\"><a href=\"/ebooks/35536\">The Poems and Verses of Charles Dickens</a> (English) (as Author)</li>\n",
      "<li class=\"pgdbetext\"><a href=\"/ebooks/47534\">The Posthumous Papers of the Pickwick Club, v. 1 (of 2)</a> (English) (as Author)</li>\n",
      "<li class=\"pgdbetext\"><a href=\"/ebooks/47535\">The Posthumous Papers of the Pickwick Club, v. 2 (of 2)</a> (English) (as Author)</li>\n",
      "<li class=\"pgdbetext\"><a href=\"/ebooks/872\">Reprinted Pieces</a> (English) (as Author)</li>\n",
      "<li class=\"pgdbaudio\"><a href=\"/ebooks/9697\">Reprinted Pieces</a> (English) (as Author)</li>\n",
      "<li class=\"pgdbetext\"><a href=\"/ebooks/31638\">Sanoma merellä</a> (Finnish) (as Author)</li>\n",
      "<br/>Being Eight Hundred and Sixty-six Pictures Printed from the Original Wood Blocks</a> (English) (as Author)</li>\n",
      "<li class=\"pgdbetext\"><a href=\"/ebooks/47716\">Schetsen uit Amerika en Tafereelen uit Italië</a> (Dutch) (as Author)</li>\n",
      "<li class=\"pgdbetext\"><a href=\"/ebooks/1392\">The Seven Poor Travellers</a> (English) (as Author)</li>\n",
      "<li class=\"pgdbaudio\"><a href=\"/ebooks/9737\">The Seven Poor Travellers</a> (English) (as Author)</li>\n",
      "<li class=\"pgdbetext\"><a href=\"/ebooks/23342\">Sisar Rosa</a> (Finnish) (as Dubious author)</li>\n",
      "<li class=\"pgdbaudio\"><a href=\"/ebooks/9733\">Sketches by Boz, illustrative of everyday life and every-day people</a> (English) (as Author)</li>\n",
      "<li class=\"pgdbetext\"><a href=\"/ebooks/882\">Sketches by Boz, Illustrative of Every-Day Life and Every-Day People</a> (English) (as Author)</li>\n",
      "<li class=\"pgdbaudio\"><a href=\"/ebooks/9743\">Sketches of Young Couples</a> (English) (as Author)</li>\n",
      "<li class=\"pgdbetext\"><a href=\"/ebooks/916\">Sketches of Young Couples</a> (English) (as Author)</li>\n",
      "<li class=\"pgdbetext\"><a href=\"/ebooks/918\">Sketches of Young Gentlemen</a> (English) (as Author)</li>\n",
      "<li class=\"pgdbaudio\"><a href=\"/ebooks/9734\">Sketches of Young Gentlemen</a> (English) (as Author)</li>\n",
      "<li class=\"pgdbetext\"><a href=\"/ebooks/50771\">Slechte Tijden</a> (Dutch) (as Author)</li>\n",
      "<li class=\"pgdbaudio\"><a href=\"/ebooks/9735\">Somebody's Luggage</a> (English) (as Author)</li>\n",
      "<li class=\"pgdbetext\"><a href=\"/ebooks/1414\">Somebody's Luggage</a> (English) (as Author)</li>\n",
      "<li class=\"pgdbaudio\"><a href=\"/ebooks/9698\">Some Christmas Stories</a> (English) (as Author)</li>\n",
      "<li class=\"pgdbetext\"><a href=\"/ebooks/1467\">Some Christmas Stories</a> (English) (as Author)</li>\n",
      "<li class=\"pgdbaudio\"><a href=\"/ebooks/9706\">Speeches: Literary and Social</a> (English) (as Author)</li>\n",
      "<li class=\"pgdbetext\"><a href=\"/ebooks/824\">Speeches: Literary and Social</a> (English) (as Author)</li>\n",
      "<li class=\"pgdbetext\"><a href=\"/ebooks/49125\">Stories from Dickens</a> (English) (as Author)</li>\n",
      "<li class=\"pgdbaudio\"><a href=\"/ebooks/9736\">Sunday under Three Heads</a> (English) (as Author)</li>\n",
      "<li class=\"pgdbetext\"><a href=\"/ebooks/922\">Sunday Under Three Heads</a> (English) (as Author)</li>\n",
      "<li class=\"pgdbaudio\"><a href=\"/ebooks/7869\">A Tale of Two Cities</a> (English) (as Author)</li>\n",
      "<li class=\"pgdbetext\"><a href=\"/ebooks/98\">A Tale of Two Cities</a> (English) (as Author)</li>\n",
      "<li class=\"pgdbetext\"><a href=\"/ebooks/30127\">Tales from Dickens</a> (English) (as Author)</li>\n",
      "<li class=\"pgdbaudio\"><a href=\"/ebooks/9689\">Three Ghost Stories</a> (English) (as Author)</li>\n",
      "<li class=\"pgdbetext\"><a href=\"/ebooks/1289\">Three Ghost Stories</a> (English) (as Author)</li>\n",
      "<li class=\"pgdbaudio\"><a href=\"/ebooks/9731\">To Be Read at Dusk</a> (English) (as Author)</li>\n",
      "<li class=\"pgdbetext\"><a href=\"/ebooks/924\">To Be Read at Dusk</a> (English) (as Author)</li>\n",
      "<li class=\"pgdbetext\"><a href=\"/ebooks/1413\">Tom Tiddler's Ground</a> (English) (as Author)</li>\n",
      "<li class=\"pgdbaudio\"><a href=\"/ebooks/9740\">Tom Tiddler's Ground</a> (English) (as Author)</li>\n",
      "<li class=\"pgdbetext\"><a href=\"/ebooks/23452\">The Trial of William Tinkling<br/>Written by Himself at the Age of 8 Years</a> (English) (as Author)</li>\n",
      "<li class=\"pgdbaudio\"><a href=\"/ebooks/9741\">The Uncommercial Traveller</a> (English) (as Author)</li>\n",
      "<li class=\"pgdbetext\"><a href=\"/ebooks/914\">The Uncommercial Traveller</a> (English) (as Author)</li>\n",
      "<br/>Lady De Lancey's Narrative: Being an Account of How She Nursed Her Husband, Colonel Sir William Howe De Lancey, Quartermaster-General of the Army, Mortally Wounded in the Great Battle</a> (English) (as Contributor)</li>\n",
      "<li class=\"pgdbetext\"><a href=\"/ebooks/22465\">Der Weihnachtsabend<br/>Eine Geistergeschichte</a> (German) (as Author)</li>\n",
      "<li class=\"pgdbaudio\"><a href=\"/ebooks/9742\">The Wreck of the Golden Mary</a> (English) (as Author)</li>\n",
      "<li class=\"pgdbetext\"><a href=\"/ebooks/1465\">The Wreck of the Golden Mary</a> (English) (as Author)</li>\n",
      "<li class=\"pgdbetext\"><a href=\"/ebooks/58145\">Zwei Städte</a> (German) (as Author)</li>\n",
      "</ul>\n"
     ]
    }
   ],
   "source": [
    "ul = h2[0].next\n",
    "while ul.name != 'ul':\n",
    "    ul = ul.next\n",
    "print(ul)"
   ]
  },
  {
   "cell_type": "code",
   "execution_count": 11,
   "metadata": {},
   "outputs": [],
   "source": [
    "as_auth = re.compile('as Author')\n",
    "links = {}\n",
    "for li in ul.find_all(class_='pgdbetext'):\n",
    "    if li.find(string=as_auth) and li.find(string=lang):\n",
    "        links[li.a.text.replace('\\r',' ')] = li.a['href']"
   ]
  },
  {
   "cell_type": "code",
   "execution_count": 12,
   "metadata": {
    "collapsed": true,
    "jupyter": {
     "outputs_hidden": true
    }
   },
   "outputs": [
    {
     "name": "stdout",
     "output_type": "stream",
     "text": [
      "{ '\"Old Scrooge\": A Christmas Carol in Five Staves. Dramatized from Charles Dickens\\' Celebrated Christmas Story.': '/ebooks/40729',\n",
      "  \"A Child's Dream of a Star\": '/ebooks/42232',\n",
      "  \"A Child's History of England\": '/ebooks/699',\n",
      "  'A Christmas Carol': '/ebooks/24022',\n",
      "  'A Christmas Carol in Prose; Being a Ghost Story of Christmas': '/ebooks/46',\n",
      "  \"A Christmas Carol; Or, The Miser's Warning! (Adapted from Charles Dickens' Celebrated Work.)\": '/ebooks/41739',\n",
      "  'A Christmas CarolThe original manuscript': '/ebooks/30368',\n",
      "  'A House to Let': '/ebooks/2324',\n",
      "  'A Message from the Sea': '/ebooks/1407',\n",
      "  'A Tale of Two Cities': '/ebooks/98',\n",
      "  'American Notes': '/ebooks/675',\n",
      "  'Bardell v. Pickwick': '/ebooks/25985',\n",
      "  \"Barnaby Rudge: A Tale of the Riots of 'Eighty\": '/ebooks/917',\n",
      "  'Bleak House': '/ebooks/1023',\n",
      "  'Captain Boldheart & the Latin-Grammar MasterA Holiday Romance from the Pen of Lieut-Col. Robin Redforth, aged 9': '/ebooks/23765',\n",
      "  \"Charles Dickens' Children Stories\": '/ebooks/37121',\n",
      "  'Christmas-Tide': '/ebooks/41894',\n",
      "  \"Cruikshank's Water Colours\": '/ebooks/49683',\n",
      "  'David Copperfield': '/ebooks/766',\n",
      "  \"Dickens' Stories About Children Every Child Can Read\": '/ebooks/32241',\n",
      "  'Doctor Marigold': '/ebooks/1415',\n",
      "  'Dombey and Son': '/ebooks/821',\n",
      "  \"George Silverman's Explanation\": '/ebooks/810',\n",
      "  'Going into Society': '/ebooks/1422',\n",
      "  'Great Expectations': '/ebooks/1400',\n",
      "  'Hard Times': '/ebooks/786',\n",
      "  'Holiday Romance': '/ebooks/809',\n",
      "  'Hunted Down: The Detective Stories of Charles Dickens': '/ebooks/807',\n",
      "  'Index of the Project Gutenberg Works of Charles Dickens': '/ebooks/58157',\n",
      "  'Legends and Lyrics. Part 1': '/ebooks/2303',\n",
      "  'Little Dorrit': '/ebooks/963',\n",
      "  'Martin Chuzzlewit': '/ebooks/968',\n",
      "  \"Master Humphrey's Clock\": '/ebooks/588',\n",
      "  'Miscellaneous Papers': '/ebooks/1435',\n",
      "  \"Mr. Pickwick's Christmas Being an Account of the Pickwickians' Christmas at the Manor Farm, of the Adventures There; the Tale of the Goblin Who Stole a Sexton, and of the Famous Sports on the Ice\": '/ebooks/61193',\n",
      "  \"Mrs. Lirriper's Legacy\": '/ebooks/1421',\n",
      "  \"Mrs. Lirriper's Lodgings\": '/ebooks/1416',\n",
      "  'Mudfog and Other Sketches': '/ebooks/912',\n",
      "  'Mugby Junction': '/ebooks/27924',\n",
      "  'Nell and Her Grandfather, Told from Charles Dickens\\'s \"The Old Curiosity Shop\"': '/ebooks/52125',\n",
      "  'Nicholas Nickleby': '/ebooks/967',\n",
      "  'No Thoroughfare': '/ebooks/1423',\n",
      "  'Oliver Twist': '/ebooks/730',\n",
      "  'Oliver Twist, Vol. 1 (of 3)': '/ebooks/47529',\n",
      "  'Oliver Twist, Vol. 2 (of 3)': '/ebooks/47530',\n",
      "  'Oliver Twist, Vol. 3 (of 3)': '/ebooks/47531',\n",
      "  \"Oliver Twist; or, The Parish Boy's Progress. Illustrated\": '/ebooks/46675',\n",
      "  'Our Mutual Friend': '/ebooks/883',\n",
      "  \"Pearl-Fishing; Choice Stories from Dickens' Household Words; First Series\": '/ebooks/49927',\n",
      "  \"Pearl-Fishing; Choice Stories from Dickens' Household Words; Second Series\": '/ebooks/50334',\n",
      "  'Pictures from Italy': '/ebooks/650',\n",
      "  'Reprinted Pieces': '/ebooks/872',\n",
      "  'Scenes and Characters from the Works of Charles Dickens Being Eight Hundred and Sixty-six Pictures Printed from the Original Wood Blocks': '/ebooks/43207',\n",
      "  'Sketches by Boz, Illustrative of Every-Day Life and Every-Day People': '/ebooks/882',\n",
      "  'Sketches of Young Couples': '/ebooks/916',\n",
      "  'Sketches of Young Gentlemen': '/ebooks/918',\n",
      "  'Some Christmas Stories': '/ebooks/1467',\n",
      "  \"Somebody's Luggage\": '/ebooks/1414',\n",
      "  'Speeches: Literary and Social': '/ebooks/824',\n",
      "  'Stories from Dickens': '/ebooks/49125',\n",
      "  'Sunday Under Three Heads': '/ebooks/922',\n",
      "  'Tales from Dickens': '/ebooks/30127',\n",
      "  'The Battle of Life': '/ebooks/676',\n",
      "  'The Battle of Life: A Love Story': '/ebooks/40723',\n",
      "  'The Chimes A Goblin Story of Some Bells That Rang an Old Year out and a New Year In': '/ebooks/653',\n",
      "  'The Cricket on the Hearth': '/ebooks/20795',\n",
      "  'The Cricket on the Hearth: A Fairy Tale of Home': '/ebooks/678',\n",
      "  \"The Haunted Man and the Ghost's Bargain\": '/ebooks/644',\n",
      "  'The Holly-Tree': '/ebooks/1394',\n",
      "  'The Lamplighter': '/ebooks/927',\n",
      "  'The Lazy Tour of Two Idle Apprentices': '/ebooks/888',\n",
      "  'The Letters of Charles Dickens. Vol. 1, 1833-1856': '/ebooks/25852',\n",
      "  'The Letters of Charles Dickens. Vol. 2, 1857-1870': '/ebooks/25853',\n",
      "  'The Letters of Charles Dickens. Vol. 3, 1836-1870': '/ebooks/25854',\n",
      "  'The Loving Ballad of Lord Bateman': '/ebooks/15618',\n",
      "  'The Magic FishboneA Holiday Romance from the Pen of Miss Alice Rainbird, Aged 7': '/ebooks/23344',\n",
      "  'The Mystery of Edwin Drood': '/ebooks/564',\n",
      "  'The Old Curiosity Shop': '/ebooks/700',\n",
      "  'The Perils of Certain English Prisoners': '/ebooks/1406',\n",
      "  'The Personal History of David Copperfield': '/ebooks/43111',\n",
      "  'The Pickwick Papers': '/ebooks/580',\n",
      "  'The Poems and Verses of Charles Dickens': '/ebooks/35536',\n",
      "  'The Posthumous Papers of the Pickwick Club, v. 1 (of 2)': '/ebooks/47534',\n",
      "  'The Posthumous Papers of the Pickwick Club, v. 2 (of 2)': '/ebooks/47535',\n",
      "  'The Seven Poor Travellers': '/ebooks/1392',\n",
      "  'The Trial of William TinklingWritten by Himself at the Age of 8 Years': '/ebooks/23452',\n",
      "  'The Uncommercial Traveller': '/ebooks/914',\n",
      "  'The Wreck of the Golden Mary': '/ebooks/1465',\n",
      "  'Three Ghost Stories': '/ebooks/1289',\n",
      "  'To Be Read at Dusk': '/ebooks/924',\n",
      "  \"Tom Tiddler's Ground\": '/ebooks/1413'}\n"
     ]
    }
   ],
   "source": [
    "pp.pprint(links)"
   ]
  },
  {
   "cell_type": "code",
   "execution_count": 13,
   "metadata": {},
   "outputs": [],
   "source": [
    "test = list(links.items())[0]"
   ]
  },
  {
   "cell_type": "code",
   "execution_count": 163,
   "metadata": {},
   "outputs": [],
   "source": [
    "r2 = http.request('GET', G+test[1])"
   ]
  },
  {
   "cell_type": "code",
   "execution_count": 186,
   "metadata": {},
   "outputs": [],
   "source": [
    "soup2 = BeautifulSoup(r2.data, 'html.parser')"
   ]
  },
  {
   "cell_type": "code",
   "execution_count": 223,
   "metadata": {},
   "outputs": [],
   "source": [
    "plainre = re.compile(\"plain text\", re.IGNORECASE)"
   ]
  },
  {
   "cell_type": "code",
   "execution_count": 225,
   "metadata": {},
   "outputs": [],
   "source": [
    "link = soup2(string=plainre)[0].parent['href']"
   ]
  },
  {
   "cell_type": "code",
   "execution_count": 226,
   "metadata": {},
   "outputs": [],
   "source": [
    "r3 = http.request('GET', G+link)"
   ]
  },
  {
   "cell_type": "code",
   "execution_count": 236,
   "metadata": {
    "collapsed": true,
    "jupyter": {
     "outputs_hidden": true
    }
   },
   "outputs": [
    {
     "name": "stdout",
     "output_type": "stream",
     "text": [
      "f.org\n",
      "\n",
      "                           [Picture: Emigrants]\n",
      "\n",
      "\n",
      "\n",
      "\n",
      "\n",
      "                              AMERICAN NOTES\n",
      "                                   FOR\n",
      "                           GENERAL CIRCULATION\n",
      "                                   AND\n",
      "                         PICTURES FROM ITALY {1}\n",
      "\n",
      "\n",
      "                                    BY\n",
      "                             CHARLES DICKENS\n",
      "\n",
      "                                * * * * *\n",
      "\n",
      "                         WITH 8 ILLUSTRATIONS BY\n",
      "                            MARCUS STONE, R.A.\n",
      "\n",
      "                                * * * * *\n",
      "\n",
      "                                  LONDON\n",
      "                           CHAPMAN & HALL, LTD.\n",
      "                                   1913\n",
      "\n",
      "                                * * * * *\n",
      "\n",
      "                           I DEDICATE THIS BOOK\n",
      "                                    TO\n",
      "                          THOSE FRIENDS OF MINE\n",
      "                                IN AMERICA\n",
      "                   WHO, GIVING ME A WELCOME I MUST EVER\n",
      "                     GRATEFULLY AND PROUDLY REMEMBER,\n",
      "                            LEFT MY JUDGEMENT\n",
      "                                  FREE;\n",
      "                 AND WHO, LOVING THEIR COUNTRY, CAN BEAR\n",
      "                     THE TRUTH, WHEN IT IS TOLD GOOD\n",
      "                           HUMOUREDLY, AND IN A\n",
      "                               KIND SPIRIT.\n",
      "\n",
      "                                * * * * *\n",
      "\n",
      "\n",
      "\n",
      "\n",
      "PREFACE TO THE FIRST CHEAP EDITION OF “AMERICAN NOTES”\n",
      "\n",
      "\n",
      "IT is nearly eight years since this book was first published.  I present\n",
      "it, unaltered, in the Cheap Edition; and such of my opinions as it\n",
      "expresses, are quite unaltered too.\n",
      "\n",
      "My readers have opportunities of judging for themselves wheth\n"
     ]
    }
   ],
   "source": [
    "print(r3.data[800:2500].decode('utf-8'))"
   ]
  },
  {
   "cell_type": "code",
   "execution_count": 23,
   "metadata": {},
   "outputs": [
    {
     "data": {
      "text/plain": [
       "['clean.py',\n",
       " 'clean.ipynb',\n",
       " '.ipynb_checkpoints',\n",
       " 'dickens-charles-clean',\n",
       " 'dickens-charles',\n",
       " 'scrape.ipynb',\n",
       " 'scrape-author.ipynb']"
      ]
     },
     "execution_count": 23,
     "metadata": {},
     "output_type": "execute_result"
    }
   ],
   "source": [
    "author_dir = '-'.join(map(str.lower, author.split(', ')))\n",
    "if not os.path.isdir(author_dir):\n",
    "    os.mkdir(author_dir)\n",
    "os.listdir()"
   ]
  },
  {
   "cell_type": "code",
   "execution_count": 14,
   "metadata": {},
   "outputs": [],
   "source": [
    "rid = re.compile('[!?.()\"\";:,\\']')"
   ]
  },
  {
   "cell_type": "code",
   "execution_count": 44,
   "metadata": {},
   "outputs": [],
   "source": [
    "def get_ebook(link, secs=1):\n",
    "    G = 'http://www.gutenberg.org'\n",
    "    # go to list of formats\n",
    "#     http = urllib3.PoolManager(cert_reqs='CERT_REQUIRED', ca_certs=certifi.where())\n",
    "    r = http.request('GET', G+link)\n",
    "    s = BeautifulSoup(r.data, 'html.parser')\n",
    "    # find utf-8 plain text version\n",
    "    txt = re.compile('plain text', re.IGNORECASE)\n",
    "    l = s(string=txt)[0].parent['href'] # link\n",
    "    sleep(secs) # get thee not blocked\n",
    "    # download ebook & return it\n",
    "    h = http.request('Get', G+l)\n",
    "    return(h.data)"
   ]
  },
  {
   "cell_type": "code",
   "execution_count": 45,
   "metadata": {},
   "outputs": [],
   "source": [
    "def save_ebook(title, link):\n",
    "    t = re.sub(rid, '', title.lower()).replace(' ', '-') + '.txt'\n",
    "    if not os.path.isfile(os.path.join(author_dir, t)):\n",
    "        ebook = get_ebook(link)\n",
    "        print(f'saving {t}')\n",
    "        with open(os.path.join(author_dir, t), 'wb') as f:\n",
    "            f.write(ebook)\n",
    "    else:\n",
    "        print(f'already downloaded {t}, continuing')    "
   ]
  },
  {
   "cell_type": "code",
   "execution_count": 47,
   "metadata": {},
   "outputs": [
    {
     "name": "stdout",
     "output_type": "stream",
     "text": [
      "already downloaded american-notes.txt, continuing\n",
      "saving bardell-v-pickwick.txt\n",
      "saving barnaby-rudge-a-tale-of-the-riots-of-eighty.txt\n",
      "saving the-battle-of-life.txt\n",
      "saving the-battle-of-life-a-love-story.txt\n",
      "saving bleak-house.txt\n",
      "saving captain-boldheart-&-the-latin-grammar-mastera-holiday-romance-from-the-pen-of-lieut-col-robin-redforth-aged-9.txt\n",
      "saving charles-dickens-children-stories.txt\n",
      "saving a-childs-dream-of-a-star.txt\n",
      "saving a-childs-history-of-england.txt\n",
      "saving the-chimes-a-goblin-story-of-some-bells-that-rang-an-old-year-out-and-a-new-year-in.txt\n",
      "saving a-christmas-carol.txt\n"
     ]
    },
    {
     "ename": "KeyboardInterrupt",
     "evalue": "",
     "output_type": "error",
     "traceback": [
      "\u001b[0;31m---------------------------------------------------------------------------\u001b[0m",
      "\u001b[0;31mKeyboardInterrupt\u001b[0m                         Traceback (most recent call last)",
      "\u001b[0;32m<ipython-input-47-8e4ecd2d0d22>\u001b[0m in \u001b[0;36m<module>\u001b[0;34m\u001b[0m\n\u001b[1;32m      1\u001b[0m \u001b[0;32mfor\u001b[0m \u001b[0mtitle\u001b[0m\u001b[0;34m,\u001b[0m \u001b[0mlink\u001b[0m \u001b[0;32min\u001b[0m \u001b[0mlinks\u001b[0m\u001b[0;34m.\u001b[0m\u001b[0mitems\u001b[0m\u001b[0;34m(\u001b[0m\u001b[0;34m)\u001b[0m\u001b[0;34m:\u001b[0m\u001b[0;34m\u001b[0m\u001b[0;34m\u001b[0m\u001b[0m\n\u001b[0;32m----> 2\u001b[0;31m     \u001b[0msave_ebook\u001b[0m\u001b[0;34m(\u001b[0m\u001b[0mtitle\u001b[0m\u001b[0;34m,\u001b[0m \u001b[0mlink\u001b[0m\u001b[0;34m)\u001b[0m\u001b[0;34m\u001b[0m\u001b[0;34m\u001b[0m\u001b[0m\n\u001b[0m",
      "\u001b[0;32m<ipython-input-45-81f22de7e5d0>\u001b[0m in \u001b[0;36msave_ebook\u001b[0;34m(title, link)\u001b[0m\n\u001b[1;32m      2\u001b[0m     \u001b[0mt\u001b[0m \u001b[0;34m=\u001b[0m \u001b[0mre\u001b[0m\u001b[0;34m.\u001b[0m\u001b[0msub\u001b[0m\u001b[0;34m(\u001b[0m\u001b[0mrid\u001b[0m\u001b[0;34m,\u001b[0m \u001b[0;34m''\u001b[0m\u001b[0;34m,\u001b[0m \u001b[0mtitle\u001b[0m\u001b[0;34m.\u001b[0m\u001b[0mlower\u001b[0m\u001b[0;34m(\u001b[0m\u001b[0;34m)\u001b[0m\u001b[0;34m)\u001b[0m\u001b[0;34m.\u001b[0m\u001b[0mreplace\u001b[0m\u001b[0;34m(\u001b[0m\u001b[0;34m' '\u001b[0m\u001b[0;34m,\u001b[0m \u001b[0;34m'-'\u001b[0m\u001b[0;34m)\u001b[0m \u001b[0;34m+\u001b[0m \u001b[0;34m'.txt'\u001b[0m\u001b[0;34m\u001b[0m\u001b[0;34m\u001b[0m\u001b[0m\n\u001b[1;32m      3\u001b[0m     \u001b[0;32mif\u001b[0m \u001b[0;32mnot\u001b[0m \u001b[0mos\u001b[0m\u001b[0;34m.\u001b[0m\u001b[0mpath\u001b[0m\u001b[0;34m.\u001b[0m\u001b[0misfile\u001b[0m\u001b[0;34m(\u001b[0m\u001b[0mos\u001b[0m\u001b[0;34m.\u001b[0m\u001b[0mpath\u001b[0m\u001b[0;34m.\u001b[0m\u001b[0mjoin\u001b[0m\u001b[0;34m(\u001b[0m\u001b[0mauthor_dir\u001b[0m\u001b[0;34m,\u001b[0m \u001b[0mt\u001b[0m\u001b[0;34m)\u001b[0m\u001b[0;34m)\u001b[0m\u001b[0;34m:\u001b[0m\u001b[0;34m\u001b[0m\u001b[0;34m\u001b[0m\u001b[0m\n\u001b[0;32m----> 4\u001b[0;31m         \u001b[0mebook\u001b[0m \u001b[0;34m=\u001b[0m \u001b[0mget_ebook\u001b[0m\u001b[0;34m(\u001b[0m\u001b[0mlink\u001b[0m\u001b[0;34m)\u001b[0m\u001b[0;34m\u001b[0m\u001b[0;34m\u001b[0m\u001b[0m\n\u001b[0m\u001b[1;32m      5\u001b[0m         \u001b[0mprint\u001b[0m\u001b[0;34m(\u001b[0m\u001b[0;34mf'saving {t}'\u001b[0m\u001b[0;34m)\u001b[0m\u001b[0;34m\u001b[0m\u001b[0;34m\u001b[0m\u001b[0m\n\u001b[1;32m      6\u001b[0m         \u001b[0;32mwith\u001b[0m \u001b[0mopen\u001b[0m\u001b[0;34m(\u001b[0m\u001b[0mos\u001b[0m\u001b[0;34m.\u001b[0m\u001b[0mpath\u001b[0m\u001b[0;34m.\u001b[0m\u001b[0mjoin\u001b[0m\u001b[0;34m(\u001b[0m\u001b[0mauthor_dir\u001b[0m\u001b[0;34m,\u001b[0m \u001b[0mt\u001b[0m\u001b[0;34m)\u001b[0m\u001b[0;34m,\u001b[0m \u001b[0;34m'wb'\u001b[0m\u001b[0;34m)\u001b[0m \u001b[0;32mas\u001b[0m \u001b[0mf\u001b[0m\u001b[0;34m:\u001b[0m\u001b[0;34m\u001b[0m\u001b[0;34m\u001b[0m\u001b[0m\n",
      "\u001b[0;32m<ipython-input-44-c38c11980c20>\u001b[0m in \u001b[0;36mget_ebook\u001b[0;34m(link, secs)\u001b[0m\n\u001b[1;32m      8\u001b[0m     \u001b[0mtxt\u001b[0m \u001b[0;34m=\u001b[0m \u001b[0mre\u001b[0m\u001b[0;34m.\u001b[0m\u001b[0mcompile\u001b[0m\u001b[0;34m(\u001b[0m\u001b[0;34m'plain text'\u001b[0m\u001b[0;34m,\u001b[0m \u001b[0mre\u001b[0m\u001b[0;34m.\u001b[0m\u001b[0mIGNORECASE\u001b[0m\u001b[0;34m)\u001b[0m\u001b[0;34m\u001b[0m\u001b[0;34m\u001b[0m\u001b[0m\n\u001b[1;32m      9\u001b[0m     \u001b[0ml\u001b[0m \u001b[0;34m=\u001b[0m \u001b[0ms\u001b[0m\u001b[0;34m(\u001b[0m\u001b[0mstring\u001b[0m\u001b[0;34m=\u001b[0m\u001b[0mtxt\u001b[0m\u001b[0;34m)\u001b[0m\u001b[0;34m[\u001b[0m\u001b[0;36m0\u001b[0m\u001b[0;34m]\u001b[0m\u001b[0;34m.\u001b[0m\u001b[0mparent\u001b[0m\u001b[0;34m[\u001b[0m\u001b[0;34m'href'\u001b[0m\u001b[0;34m]\u001b[0m \u001b[0;31m# link\u001b[0m\u001b[0;34m\u001b[0m\u001b[0;34m\u001b[0m\u001b[0m\n\u001b[0;32m---> 10\u001b[0;31m     \u001b[0msleep\u001b[0m\u001b[0;34m(\u001b[0m\u001b[0msecs\u001b[0m\u001b[0;34m)\u001b[0m \u001b[0;31m# get thee not blocked\u001b[0m\u001b[0;34m\u001b[0m\u001b[0;34m\u001b[0m\u001b[0m\n\u001b[0m\u001b[1;32m     11\u001b[0m     \u001b[0;31m# download ebook & return it\u001b[0m\u001b[0;34m\u001b[0m\u001b[0;34m\u001b[0m\u001b[0;34m\u001b[0m\u001b[0m\n\u001b[1;32m     12\u001b[0m     \u001b[0mh\u001b[0m \u001b[0;34m=\u001b[0m \u001b[0mhttp\u001b[0m\u001b[0;34m.\u001b[0m\u001b[0mrequest\u001b[0m\u001b[0;34m(\u001b[0m\u001b[0;34m'Get'\u001b[0m\u001b[0;34m,\u001b[0m \u001b[0mG\u001b[0m\u001b[0;34m+\u001b[0m\u001b[0ml\u001b[0m\u001b[0;34m)\u001b[0m\u001b[0;34m\u001b[0m\u001b[0;34m\u001b[0m\u001b[0m\n",
      "\u001b[0;31mKeyboardInterrupt\u001b[0m: "
     ]
    }
   ],
   "source": [
    "for title, link in links.items():\n",
    "    save_ebook(title, link)"
   ]
  }
 ],
 "metadata": {
  "kernelspec": {
   "display_name": "Python 3",
   "language": "python",
   "name": "python3"
  },
  "language_info": {
   "codemirror_mode": {
    "name": "ipython",
    "version": 3
   },
   "file_extension": ".py",
   "mimetype": "text/x-python",
   "name": "python",
   "nbconvert_exporter": "python",
   "pygments_lexer": "ipython3",
   "version": "3.7.3"
  }
 },
 "nbformat": 4,
 "nbformat_minor": 4
}
